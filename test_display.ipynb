{
 "cells": [
  {
   "cell_type": "code",
   "execution_count": null,
   "id": "055b3c2d-1694-4b53-91b5-3f78bbb8f0bd",
   "metadata": {},
   "outputs": [],
   "source": [
    "# https://ymd_h.gitlab.io/ymd_blog/posts/gym_on_google_colab_with_gnwrapper/"
   ]
  },
  {
   "cell_type": "code",
   "execution_count": 2,
   "id": "342a0864-5e4b-4709-a9e4-161cff80c103",
   "metadata": {},
   "outputs": [
    {
     "name": "stdout",
     "output_type": "stream",
     "text": [
      "Collecting pyvirtualdisplay\n",
      "  Downloading PyVirtualDisplay-3.0-py3-none-any.whl (15 kB)\n",
      "Installing collected packages: pyvirtualdisplay\n",
      "Successfully installed pyvirtualdisplay-3.0\n",
      "\u001b[33mWARNING: Running pip as the 'root' user can result in broken permissions and conflicting behaviour with the system package manager. It is recommended to use a virtual environment instead: https://pip.pypa.io/warnings/venv\u001b[0m\u001b[33m\n",
      "\u001b[0m"
     ]
    }
   ],
   "source": [
    "! pip install pyvirtualdisplay"
   ]
  },
  {
   "cell_type": "code",
   "execution_count": 3,
   "id": "fc2590ee-9fee-4a3b-a86e-b499377ff019",
   "metadata": {},
   "outputs": [
    {
     "data": {
      "text/plain": [
       "<pyvirtualdisplay.display.Display at 0x7f86a4231030>"
      ]
     },
     "execution_count": 3,
     "metadata": {},
     "output_type": "execute_result"
    }
   ],
   "source": [
    "from pyvirtualdisplay import Display\n",
    "\n",
    "virtual_display = Display(visible=0, size=(1400, 900))\n",
    "virtual_display.start()"
   ]
  },
  {
   "cell_type": "code",
   "execution_count": 4,
   "id": "b2951fff-310a-45ab-923d-e03aea6e2796",
   "metadata": {},
   "outputs": [],
   "source": [
    "import numpy as np"
   ]
  },
  {
   "cell_type": "code",
   "execution_count": 5,
   "id": "1993355a-3f25-42cc-86e6-cbf589a606d7",
   "metadata": {},
   "outputs": [
    {
     "name": "stdout",
     "output_type": "stream",
     "text": [
      "1.23.5\n"
     ]
    }
   ],
   "source": [
    "print(np.__version__)"
   ]
  },
  {
   "cell_type": "code",
   "execution_count": 6,
   "id": "41b534da-f8e1-4dbc-9f64-093d54bca25f",
   "metadata": {},
   "outputs": [],
   "source": [
    "import pandas as pd"
   ]
  },
  {
   "cell_type": "code",
   "execution_count": 7,
   "id": "b3881169-7389-4318-83f2-61c05774380b",
   "metadata": {},
   "outputs": [
    {
     "name": "stdout",
     "output_type": "stream",
     "text": [
      "2.0.2\n"
     ]
    }
   ],
   "source": [
    "print(pd.__version__)"
   ]
  },
  {
   "cell_type": "code",
   "execution_count": 8,
   "id": "88f145f1-722b-4110-9d45-caa80e004846",
   "metadata": {},
   "outputs": [
    {
     "name": "stdout",
     "output_type": "stream",
     "text": [
      "absl-py==1.4.0\n",
      "ale-py==0.8.1\n",
      "alembic==1.11.1\n",
      "anyio==3.7.0\n",
      "argon2-cffi==21.3.0\n",
      "argon2-cffi-bindings==21.2.0\n",
      "arrow==1.2.3\n",
      "asttokens==2.2.1\n",
      "astunparse==1.6.3\n",
      "async-lru==2.0.2\n",
      "attrs==23.1.0\n",
      "autopep8==2.0.2\n",
      "AutoROM==0.6.1\n",
      "AutoROM.accept-rom-license==0.6.1\n",
      "Babel==2.12.1\n",
      "backcall==0.2.0\n",
      "beautifulsoup4==4.12.2\n",
      "bleach==6.0.0\n",
      "box2d-py==2.3.5\n",
      "cachetools==5.3.1\n",
      "certifi==2023.5.7\n",
      "cffi==1.15.1\n",
      "chardet==5.1.0\n",
      "charset-normalizer==3.1.0\n",
      "click==8.1.3\n",
      "cloudpickle==2.2.1\n",
      "cmaes==0.9.1\n",
      "cmake==3.25.0\n",
      "colorlog==6.7.0\n",
      "comm==0.1.3\n",
      "contourpy==1.0.7\n",
      "cycler==0.11.0\n",
      "Cython==0.29.35\n",
      "DataProperty==0.55.1\n",
      "debugpy==1.6.7\n",
      "decorator==4.4.2\n",
      "defusedxml==0.7.1\n",
      "exceptiongroup==1.1.1\n",
      "executing==1.2.0\n",
      "Farama-Notifications==0.0.4\n",
      "fasteners==0.18\n",
      "fastjsonschema==2.17.1\n",
      "filelock==3.9.0\n",
      "flatbuffers==23.5.26\n",
      "fonttools==4.39.4\n",
      "fqdn==1.5.1\n",
      "fsspec==2023.5.0\n",
      "gast==0.4.0\n",
      "gitdb==4.0.10\n",
      "GitPython==3.1.31\n",
      "glfw==2.5.9\n",
      "google-auth==2.19.1\n",
      "google-auth-oauthlib==1.0.0\n",
      "google-pasta==0.2.0\n",
      "greenlet==2.0.2\n",
      "grpcio==1.54.2\n",
      "gymnasium==0.28.1\n",
      "h5py==3.8.0\n",
      "huggingface-hub==0.15.1\n",
      "huggingface-sb3==2.2.5\n",
      "idna==3.4\n",
      "imageio==2.31.0\n",
      "imageio-ffmpeg==0.4.8\n",
      "importlib-resources==5.12.0\n",
      "ipykernel==6.23.1\n",
      "ipynbname==2023.1.0.0\n",
      "ipython==8.14.0\n",
      "ipywidgets==8.0.6\n",
      "isoduration==20.11.0\n",
      "jax==0.3.24\n",
      "jax-jumpy==1.0.0\n",
      "jaxlib==0.3.24\n",
      "jedi==0.18.2\n",
      "Jinja2==3.1.2\n",
      "joblib==1.2.0\n",
      "json5==0.9.14\n",
      "jsonpointer==2.3\n",
      "jsonschema==4.17.3\n",
      "jupyter-events==0.6.3\n",
      "jupyter-lsp==2.2.0\n",
      "jupyter_client==8.2.0\n",
      "jupyter_core==5.3.0\n",
      "jupyter_server==2.6.0\n",
      "jupyter_server_terminals==0.4.4\n",
      "jupyterlab==4.0.2\n",
      "jupyterlab-pygments==0.2.2\n",
      "jupyterlab-widgets==3.0.7\n",
      "jupyterlab_server==2.22.1\n",
      "keras==2.12.0\n",
      "kiwisolver==1.4.4\n",
      "lazy_loader==0.2\n",
      "libclang==16.0.0\n",
      "lit==15.0.7\n",
      "lz4==4.3.2\n",
      "Mako==1.2.4\n",
      "Markdown==3.4.3\n",
      "markdown-it-py==2.2.0\n",
      "MarkupSafe==2.1.3\n",
      "matplotlib==3.7.1\n",
      "matplotlib-inline==0.1.6\n",
      "mbstrdecoder==1.1.2\n",
      "mdurl==0.1.2\n",
      "mistune==2.0.5\n",
      "ml-dtypes==0.2.0\n",
      "moviepy==1.0.3\n",
      "mpmath==1.2.1\n",
      "mujoco==2.3.5\n",
      "mujoco-py==2.1.2.14\n",
      "nbclient==0.8.0\n",
      "nbconvert==7.4.0\n",
      "nbformat==5.9.0\n",
      "nest-asyncio==1.5.6\n",
      "networkx==3.1\n",
      "notebook_shim==0.2.3\n",
      "numpy==1.23.5\n",
      "nvidia-cublas-cu11==11.11.3.6\n",
      "nvidia-cudnn-cu11==8.6.0.163\n",
      "oauthlib==3.2.2\n",
      "opencv-python==4.7.0.72\n",
      "opt-einsum==3.3.0\n",
      "optuna==3.2.0\n",
      "overrides==7.3.1\n",
      "packaging==23.1\n",
      "pandas==2.0.2\n",
      "pandocfilters==1.5.0\n",
      "parso==0.8.3\n",
      "pathvalidate==2.5.2\n",
      "pexpect==4.8.0\n",
      "pickleshare==0.7.5\n",
      "Pillow==9.5.0\n",
      "platformdirs==3.5.1\n",
      "proglog==0.1.10\n",
      "prometheus-client==0.17.0\n",
      "prompt-toolkit==3.0.38\n",
      "protobuf==4.23.2\n",
      "psutil==5.9.5\n",
      "ptyprocess==0.7.0\n",
      "pure-eval==0.2.2\n",
      "pyasn1==0.5.0\n",
      "pyasn1-modules==0.3.0\n",
      "pycodestyle==2.10.0\n",
      "pycparser==2.21\n",
      "pygame==2.1.3\n",
      "Pygments==2.15.1\n",
      "PyOpenGL==3.1.7\n",
      "pyparsing==3.0.9\n",
      "pyrsistent==0.19.3\n",
      "pytablewriter==0.64.2\n",
      "python-dateutil==2.8.2\n",
      "python-json-logger==2.0.7\n",
      "pytz==2023.3\n",
      "PyVirtualDisplay==3.0\n",
      "PyWavelets==1.4.1\n",
      "PyYAML==6.0\n",
      "pyzmq==25.1.0\n",
      "requests==2.31.0\n",
      "requests-oauthlib==1.3.1\n",
      "rfc3339-validator==0.1.4\n",
      "rfc3986-validator==0.1.1\n",
      "rich==13.4.1\n",
      "rl-zoo3==1.7.0\n",
      "rsa==4.9\n",
      "sb3-contrib==1.7.0\n",
      "scikit-image==0.21.0\n",
      "scikit-learn==1.2.2\n",
      "scipy==1.10.1\n",
      "seaborn==0.12.2\n",
      "Send2Trash==1.8.2\n",
      "Shimmy==0.2.1\n",
      "six==1.16.0\n",
      "smmap==5.0.0\n",
      "sniffio==1.3.0\n",
      "soupsieve==2.4.1\n",
      "SQLAlchemy==2.0.15\n",
      "stable-baselines3==2.0.0a13\n",
      "stack-data==0.6.2\n",
      "swig==4.1.1\n",
      "sympy==1.11.1\n",
      "tabledata==1.3.1\n",
      "tcolorpy==0.1.3\n",
      "tensorboard==2.12.3\n",
      "tensorboard-data-server==0.7.0\n",
      "tensorflow==2.12.0\n",
      "tensorflow-estimator==2.12.0\n",
      "tensorflow-io-gcs-filesystem==0.32.0\n",
      "termcolor==2.3.0\n",
      "terminado==0.17.1\n",
      "threadpoolctl==3.1.0\n",
      "tifffile==2023.4.12\n",
      "tinycss2==1.2.1\n",
      "tomli==2.0.1\n",
      "torch==2.0.1+cu118\n",
      "torchaudio==2.0.2+cu118\n",
      "torchvision==0.15.2+cu118\n",
      "tornado==6.3.2\n",
      "tqdm==4.65.0\n",
      "traitlets==5.9.0\n",
      "triton==2.0.0\n",
      "typepy==1.3.0\n",
      "typing_extensions==4.6.3\n",
      "tzdata==2023.3\n",
      "uri-template==1.2.0\n",
      "urllib3==1.26.16\n",
      "wasabi==1.1.2\n",
      "wcwidth==0.2.6\n",
      "webcolors==1.13\n",
      "webencodings==0.5.1\n",
      "websocket-client==1.5.2\n",
      "Werkzeug==2.3.6\n",
      "widgetsnbextension==4.0.7\n",
      "wrapt==1.14.1\n",
      "Note: you may need to restart the kernel to use updated packages.\n"
     ]
    }
   ],
   "source": [
    "pip freeze"
   ]
  },
  {
   "cell_type": "code",
   "execution_count": null,
   "id": "e6bf559a-db26-4b4d-a5b2-6c22d59eb973",
   "metadata": {},
   "outputs": [],
   "source": []
  }
 ],
 "metadata": {
  "kernelspec": {
   "display_name": "Python 3 (ipykernel)",
   "language": "python",
   "name": "python3"
  },
  "language_info": {
   "codemirror_mode": {
    "name": "ipython",
    "version": 3
   },
   "file_extension": ".py",
   "mimetype": "text/x-python",
   "name": "python",
   "nbconvert_exporter": "python",
   "pygments_lexer": "ipython3",
   "version": "3.10.6"
  }
 },
 "nbformat": 4,
 "nbformat_minor": 5
}
