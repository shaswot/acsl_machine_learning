{
 "cells": [
  {
   "cell_type": "code",
   "execution_count": 1,
   "id": "089c5c46-28b3-4828-b08b-22b4626d2383",
   "metadata": {},
   "outputs": [],
   "source": [
    "import matplotlib.pyplot as plt"
   ]
  },
  {
   "cell_type": "code",
   "execution_count": 2,
   "id": "79a68d2a-9565-4ae3-bea3-3cfa25c239e7",
   "metadata": {},
   "outputs": [
    {
     "name": "stderr",
     "output_type": "stream",
     "text": [
      "2023-06-12 05:23:08.018568: I tensorflow/core/util/port.cc:110] oneDNN custom operations are on. You may see slightly different numerical results due to floating-point round-off errors from different computation orders. To turn them off, set the environment variable `TF_ENABLE_ONEDNN_OPTS=0`.\n",
      "2023-06-12 05:23:08.052257: I tensorflow/core/platform/cpu_feature_guard.cc:182] This TensorFlow binary is optimized to use available CPU instructions in performance-critical operations.\n",
      "To enable the following instructions: AVX2 AVX512F AVX512_VNNI AVX512_BF16 AVX_VNNI AMX_TILE AMX_INT8 AMX_BF16 FMA, in other operations, rebuild TensorFlow with the appropriate compiler flags.\n",
      "2023-06-12 05:23:08.570785: W tensorflow/compiler/tf2tensorrt/utils/py_utils.cc:38] TF-TRT Warning: Could not find TensorRT\n"
     ]
    }
   ],
   "source": [
    "import gymnasium as gym\n",
    "import numpy as np\n",
    "from stable_baselines3.common.atari_wrappers import (\n",
    "    ClipRewardEnv,\n",
    "    EpisodicLifeEnv,\n",
    "    FireResetEnv,\n",
    "    MaxAndSkipEnv,\n",
    "    NoopResetEnv,\n",
    ")"
   ]
  },
  {
   "cell_type": "code",
   "execution_count": 3,
   "id": "2ff6057a-3630-48b6-8f74-a5662fd96e22",
   "metadata": {},
   "outputs": [],
   "source": [
    "def make_env(env_id, seed, idx, capture_video, run_name):\n",
    "    # def thunk():\n",
    "        if capture_video and idx == 0:\n",
    "            env = gym.make(env_id, render_mode=\"rgb_array\")\n",
    "            env = gym.wrappers.RecordVideo(env, f\"videos/{run_name}\")\n",
    "        else:\n",
    "            env = gym.make(env_id)\n",
    "        env = gym.wrappers.RecordEpisodeStatistics(env)\n",
    "        env = NoopResetEnv(env, noop_max=30)\n",
    "        env = MaxAndSkipEnv(env, skip=4)\n",
    "        env = EpisodicLifeEnv(env)\n",
    "        if \"FIRE\" in env.unwrapped.get_action_meanings():\n",
    "            env = FireResetEnv(env)\n",
    "        env = ClipRewardEnv(env)\n",
    "        env = gym.wrappers.ResizeObservation(env, (84, 84))\n",
    "        env = gym.wrappers.GrayScaleObservation(env)\n",
    "        env = gym.wrappers.FrameStack(env, 4)\n",
    "        env.action_space.seed(seed)\n",
    "\n",
    "        return env\n",
    "\n",
    "    # return thunk"
   ]
  },
  {
   "cell_type": "code",
   "execution_count": 4,
   "id": "d9d47b07-6dde-4c73-a59c-bed1e8367b35",
   "metadata": {},
   "outputs": [],
   "source": [
    "class Args:\n",
    "  env_id = 'BreakoutNoFrameskip-v4'\n",
    "  seed = 123\n",
    "  capture_video = False\n",
    "  num_envs = 5\n",
    "\n",
    "args=Args()\n",
    "run_name = \"test\""
   ]
  },
  {
   "cell_type": "code",
   "execution_count": 5,
   "id": "e8156d8f-d375-469b-b338-6f38dbe8eb6f",
   "metadata": {},
   "outputs": [
    {
     "name": "stderr",
     "output_type": "stream",
     "text": [
      "A.L.E: Arcade Learning Environment (version 0.8.1+53f58b7)\n",
      "[Powered by Stella]\n"
     ]
    }
   ],
   "source": [
    "env = make_env(args.env_id, \n",
    "          args.seed,\n",
    "          0, \n",
    "          args.capture_video, \n",
    "          run_name)"
   ]
  },
  {
   "cell_type": "code",
   "execution_count": 6,
   "id": "3ee6121a-5d09-4c78-a8a2-b022cb73e864",
   "metadata": {},
   "outputs": [],
   "source": [
    "state, _ = env.reset();"
   ]
  },
  {
   "cell_type": "code",
   "execution_count": 7,
   "id": "804e3460-a07c-4bff-971e-036255fd375f",
   "metadata": {},
   "outputs": [
    {
     "data": {
      "text/plain": [
       "<gymnasium.wrappers.frame_stack.LazyFrames at 0x7f9d0d5fbba0>"
      ]
     },
     "execution_count": 7,
     "metadata": {},
     "output_type": "execute_result"
    }
   ],
   "source": [
    "state\n",
    "# \n",
    "# class LazyFrames:\n",
    "#     Ensures common frames are only stored once to optimize memory use.\n",
    "\n",
    "#     To further reduce the memory use, it is optionally to turn on lz4 to compress the observations.\n",
    "\n",
    "#     Note:\n",
    "#         This object should only be converted to numpy array just before forward pass.\n",
    "\n",
    "# # https://github.com/openai/gym/blob/master/gym/wrappers/frame_stack.py\n",
    "# \"\"\"\n",
    "\n",
    "# \n",
    "# This class exposes __array__ method, which is numpy interface to convert anything into array-like. \n",
    "# So, to convert LazyFrames into ndarray, you just need to call np.array(lazy_frames_instance)\n",
    "\n",
    "# # https://github.com/Shmuma/ptan/issues/19\n",
    "# "
   ]
  },
  {
   "cell_type": "code",
   "execution_count": 8,
   "id": "80b7ce4c-1494-4c4b-b1e5-e879feffb0d5",
   "metadata": {},
   "outputs": [],
   "source": [
    "state_np = np.array(state, dtype=np.uint8)"
   ]
  },
  {
   "cell_type": "code",
   "execution_count": 9,
   "id": "f7b72caf-a3cc-4b8c-b67d-0c40964ea269",
   "metadata": {},
   "outputs": [
    {
     "data": {
      "text/plain": [
       "array([[[0, 0, 0, ..., 0, 0, 0],\n",
       "        [0, 0, 0, ..., 0, 0, 0],\n",
       "        [0, 0, 0, ..., 0, 0, 0],\n",
       "        ...,\n",
       "        [0, 0, 0, ..., 0, 0, 0],\n",
       "        [0, 0, 0, ..., 0, 0, 0],\n",
       "        [0, 0, 0, ..., 0, 0, 0]],\n",
       "\n",
       "       [[0, 0, 0, ..., 0, 0, 0],\n",
       "        [0, 0, 0, ..., 0, 0, 0],\n",
       "        [0, 0, 0, ..., 0, 0, 0],\n",
       "        ...,\n",
       "        [0, 0, 0, ..., 0, 0, 0],\n",
       "        [0, 0, 0, ..., 0, 0, 0],\n",
       "        [0, 0, 0, ..., 0, 0, 0]],\n",
       "\n",
       "       [[0, 0, 0, ..., 0, 0, 0],\n",
       "        [0, 0, 0, ..., 0, 0, 0],\n",
       "        [0, 0, 0, ..., 0, 0, 0],\n",
       "        ...,\n",
       "        [0, 0, 0, ..., 0, 0, 0],\n",
       "        [0, 0, 0, ..., 0, 0, 0],\n",
       "        [0, 0, 0, ..., 0, 0, 0]],\n",
       "\n",
       "       [[0, 0, 0, ..., 0, 0, 0],\n",
       "        [0, 0, 0, ..., 0, 0, 0],\n",
       "        [0, 0, 0, ..., 0, 0, 0],\n",
       "        ...,\n",
       "        [0, 0, 0, ..., 0, 0, 0],\n",
       "        [0, 0, 0, ..., 0, 0, 0],\n",
       "        [0, 0, 0, ..., 0, 0, 0]]], dtype=uint8)"
      ]
     },
     "execution_count": 9,
     "metadata": {},
     "output_type": "execute_result"
    }
   ],
   "source": [
    "state_np"
   ]
  },
  {
   "cell_type": "code",
   "execution_count": 10,
   "id": "64d5961e-2e59-476f-8c2e-250118664890",
   "metadata": {},
   "outputs": [
    {
     "data": {
      "text/plain": [
       "(4, 84, 84)"
      ]
     },
     "execution_count": 10,
     "metadata": {},
     "output_type": "execute_result"
    }
   ],
   "source": [
    "state.shape"
   ]
  },
  {
   "cell_type": "code",
   "execution_count": 11,
   "id": "1c5ecf16-1808-46dd-a0d1-63f9e2e0aaac",
   "metadata": {},
   "outputs": [
    {
     "data": {
      "image/png": "[encoded data removed]",
      "text/plain": [
       "<Figure size 640x480 with 1 Axes>"
      ]
     },
     "metadata": {},
     "output_type": "display_data"
    },
    {
     "data": {
      "image/png": "[encoded data removed]",
      "text/plain": [
       "<Figure size 640x480 with 1 Axes>"
      ]
     },
     "metadata": {},
     "output_type": "display_data"
    },
    {
     "data": {
      "image/png": "[encoded data removed]",
      "text/plain": [
       "<Figure size 640x480 with 1 Axes>"
      ]
     },
     "metadata": {},
     "output_type": "display_data"
    },
    {
     "data": {
      "image/png": "[encoded data removed]",
      "text/plain": [
       "<Figure size 640x480 with 1 Axes>"
      ]
     },
     "metadata": {},
     "output_type": "display_data"
    }
   ],
   "source": [
    "for i in range(state.shape[0]):\n",
    "    plt.figure(i)\n",
    "    plt.axis(False)\n",
    "    plt.imshow(state[1],cmap='gray')"
   ]
  },
  {
   "cell_type": "code",
   "execution_count": 12,
   "id": "5f2bbc8f-6179-4bd6-888a-86a3ddd3c27f",
   "metadata": {},
   "outputs": [
    {
     "data": {
      "text/plain": [
       "<shimmy.atari_env.AtariEnv at 0x7f9d0d5e2d10>"
      ]
     },
     "execution_count": 12,
     "metadata": {},
     "output_type": "execute_result"
    }
   ],
   "source": [
    "env.unwrapped"
   ]
  },
  {
   "cell_type": "code",
   "execution_count": 13,
   "id": "3d2082ef-5976-41e6-a5c0-55493fef1285",
   "metadata": {},
   "outputs": [
    {
     "data": {
      "text/plain": [
       "Box(0, 255, (4, 84, 84), uint8)"
      ]
     },
     "execution_count": 13,
     "metadata": {},
     "output_type": "execute_result"
    }
   ],
   "source": [
    "env.observation_space\n",
    "# Box(low, high, shape, dtype)"
   ]
  },
  {
   "cell_type": "code",
   "execution_count": 14,
   "id": "8e885888-96ea-40a9-9a5a-78416b9b956f",
   "metadata": {},
   "outputs": [
    {
     "data": {
      "text/plain": [
       "Discrete(4)"
      ]
     },
     "execution_count": 14,
     "metadata": {},
     "output_type": "execute_result"
    }
   ],
   "source": [
    "env.action_space"
   ]
  }
 ],
 "metadata": {
  "kernelspec": {
   "display_name": "Python 3 (ipykernel)",
   "language": "python",
   "name": "python3"
  },
  "language_info": {
   "codemirror_mode": {
    "name": "ipython",
    "version": 3
   },
   "file_extension": ".py",
   "mimetype": "text/x-python",
   "name": "python",
   "nbconvert_exporter": "python",
   "pygments_lexer": "ipython3",
   "version": "3.10.6"
  }
 },
 "nbformat": 4,
 "nbformat_minor": 5
}
