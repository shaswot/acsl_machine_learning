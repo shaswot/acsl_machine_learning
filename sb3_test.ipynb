{
 "cells": [
  {
   "cell_type": "code",
   "execution_count": 1,
   "id": "f3e15985-34fa-46a1-b40d-7d20d14645f8",
   "metadata": {
    "jupyter": {
     "source_hidden": true
    }
   },
   "outputs": [],
   "source": [
    "import gymnasium as gym\n",
    "import matplotlib.pyplot as plt\n",
    "from IPython import display"
   ]
  },
  {
   "cell_type": "code",
   "execution_count": 2,
   "id": "711a3453-d0b0-49cd-a17c-47981608c817",
   "metadata": {},
   "outputs": [
    {
     "data": {
      "image/png": "[encoded data removed]",
      "text/plain": [
       "<Figure size 640x480 with 1 Axes>"
      ]
     },
     "metadata": {},
     "output_type": "display_data"
    }
   ],
   "source": [
    "env_name = 'LunarLander-v2'\n",
    "env = gym.make(env_name,render_mode=\"rgb_array\")\n",
    "env.reset()\n",
    "img = plt.imshow(env.render()) # only call this once\n",
    "done = False\n",
    "while not done:\n",
    "    img.set_data(env.render()) # just update the data\n",
    "    display.display(plt.gcf())\n",
    "    display.clear_output(wait=True)\n",
    "    action = env.action_space.sample()\n",
    "    _, _, terminated, truncated, info = env.step(action)\n",
    "    done = terminated or truncated\n",
    "img.set_data(env.render())"
   ]
  },
  {
   "cell_type": "code",
   "execution_count": 3,
   "id": "69003889-9061-440c-9739-62402f98ff35",
   "metadata": {},
   "outputs": [
    {
     "name": "stderr",
     "output_type": "stream",
     "text": [
      "2023-06-09 05:10:54.951600: I tensorflow/core/util/port.cc:110] oneDNN custom operations are on. You may see slightly different numerical results due to floating-point round-off errors from different computation orders. To turn them off, set the environment variable `TF_ENABLE_ONEDNN_OPTS=0`.\n",
      "2023-06-09 05:10:54.988280: I tensorflow/core/platform/cpu_feature_guard.cc:182] This TensorFlow binary is optimized to use available CPU instructions in performance-critical operations.\n",
      "To enable the following instructions: AVX2 AVX512F AVX512_VNNI AVX512_BF16 AVX_VNNI AMX_TILE AMX_INT8 AMX_BF16 FMA, in other operations, rebuild TensorFlow with the appropriate compiler flags.\n",
      "2023-06-09 05:10:55.528581: W tensorflow/compiler/tf2tensorrt/utils/py_utils.cc:38] TF-TRT Warning: Could not find TensorRT\n"
     ]
    }
   ],
   "source": [
    "from stable_baselines3 import A2C"
   ]
  },
  {
   "cell_type": "code",
   "execution_count": null,
   "id": "6b291d59-7d24-466e-aa73-cfed689c722b",
   "metadata": {},
   "outputs": [],
   "source": [
    "model = A2C('MlpPolicy', env, verbose=False)\n",
    "# model.learn(total_timesteps=10000)\n",
    "model.learn(total_timesteps=1E6)"
   ]
  },
  {
   "cell_type": "code",
   "execution_count": null,
   "id": "3e8f57da-802b-4852-a05e-5871a38f1e94",
   "metadata": {},
   "outputs": [],
   "source": [
    "episodes = 1\n",
    "\n",
    "for ep in range(episodes):\n",
    "    obs = env.reset()[0]\n",
    "    img = plt.imshow(env.render()) # only call this once\n",
    "    done = False\n",
    "    while not done:\n",
    "        img.set_data(env.render()) # just update the data\n",
    "        display.display(plt.gcf())\n",
    "        display.clear_output(wait=True)\n",
    "        \n",
    "        # pass observation to model to get predicted action\n",
    "        action, _states = model.predict(obs)\n",
    "        \n",
    "        # pass action to env and get info back\n",
    "        obs, rewards, terminated, truncated, info = env.step(action)\n",
    "        \n",
    "        # show the environment on the screen\n",
    "        env.render()\n",
    "    img.set_data(env.render())"
   ]
  },
  {
   "cell_type": "code",
   "execution_count": null,
   "id": "ba6289ae-f8a4-4bf6-a397-110f414d80cd",
   "metadata": {},
   "outputs": [],
   "source": []
  }
 ],
 "metadata": {
  "kernelspec": {
   "display_name": "Python 3 (ipykernel)",
   "language": "python",
   "name": "python3"
  },
  "language_info": {
   "codemirror_mode": {
    "name": "ipython",
    "version": 3
   },
   "file_extension": ".py",
   "mimetype": "text/x-python",
   "name": "python",
   "nbconvert_exporter": "python",
   "pygments_lexer": "ipython3",
   "version": "3.10.6"
  }
 },
 "nbformat": 4,
 "nbformat_minor": 5
}
